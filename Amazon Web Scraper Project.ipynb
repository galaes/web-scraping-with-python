{
 "cells": [
  {
   "cell_type": "code",
   "execution_count": 7,
   "id": "f58e0951-cde4-4206-a20d-badadb4faf9a",
   "metadata": {},
   "outputs": [],
   "source": [
    "#import libraries\n",
    "from bs4 import BeautifulSoup\n",
    "import requests\n",
    "import time\n",
    "import datetime\n",
    "import smtplib\n",
    "import pandas as pd"
   ]
  },
  {
   "cell_type": "code",
   "execution_count": 24,
   "id": "13477505-b560-458f-83fe-7f047f5da603",
   "metadata": {},
   "outputs": [
    {
     "name": "stdout",
     "output_type": "stream",
     "text": [
      "\n",
      "             Samsung 24-inch Flat Screen IPS Monitor 4ms 100Hz Eye-Saver Mode with Freesync (LS24C330GANXZA)- [Canada Version]\n",
      "            \n",
      "108.00\n",
      "4.5 out of 5 stars\n",
      "7,001 ratings\n"
     ]
    }
   ],
   "source": [
    "# Connect to website\n",
    "URL = 'https://www.amazon.ca/Samsung-24-inch-Eye-Saver-Freesync-LS24C330GANXZA/dp/B0CJCLFCVX?pd_rd_w=EjBHs&content-id=amzn1.sym.e0b5b8df-c7a3-4462-b3fb-639731524e88&pf_rd_p=e0b5b8df-c7a3-4462-b3fb-639731524e88&pf_rd_r=X200QYK25P81SCM3CMEQ&pd_rd_wg=CAAqE&pd_rd_r=b33fe40b-98e8-4365-95f1-083b7774a16a&pd_rd_i=B0CJCLFCVX&ref_=pd_hp_d_btf_unk_B0CJCLFCVX&th=1'\n",
    "\n",
    "headers = {\"User-Agent\": \"Mozilla/5.0 (Windows NT 10.0; Win64; x64) AppleWebKit/537.36 (KHTML, like Gecko) Chrome/78.0.3904.108 Safari/537.36\", \"Accept-Encoding\":\"gzip, deflate\", \"Accept\":\"text/html,application/xhtml+xml,application/xml;q=0.9,*/*;q=0.8\", \"DNT\":\"1\",\"Connection\":\"close\", \"Upgrade-Insecure-Requests\":\"1\"}\n",
    "\n",
    "page = requests.get(URL, headers=headers)\n",
    "\n",
    "soup1 = BeautifulSoup(page.content, \"html.parser\")\n",
    "\n",
    "#use prettify to look in a better format\n",
    "soup2 = BeautifulSoup(soup1.prettify(), \"html.parser\")\n",
    "\n",
    "title = soup2.find(id='productTitle').get_text()\n",
    "\n",
    "price_whole = soup2.find(class_='a-price-whole').get_text(strip=True)\n",
    "price_fraction = soup2.find(class_='a-price-fraction').get_text(strip=True)\n",
    "price = f'{price_whole}{price_fraction}'\n",
    "\n",
    "rating = soup2.find(class_='a-icon-alt').get_text(strip=True)\n",
    "\n",
    "total_of_ratings = soup2.find(id='acrCustomerReviewText').get_text(strip=True)\n",
    "\n",
    "print(title)\n",
    "print(price)\n",
    "print(rating)\n",
    "print(total_of_ratings)"
   ]
  },
  {
   "cell_type": "code",
   "execution_count": 29,
   "id": "dfc99c60-ed18-4316-9625-85ca36190922",
   "metadata": {},
   "outputs": [
    {
     "name": "stdout",
     "output_type": "stream",
     "text": [
      "Samsung 24-inch Flat Screen IPS Monitor 4ms 100Hz Eye-Saver Mode with Freesync (LS24C330GANXZA)- [Canada Version]\n",
      "4.5\n",
      "7,001\n"
     ]
    }
   ],
   "source": [
    "# remove the blank spaces and some words\n",
    "title = title.strip()\n",
    "rating = rating[0:3]\n",
    "total_of_ratings = total_of_ratings[0:5]\n",
    "print(title)\n",
    "print(rating)\n",
    "print(total_of_ratings)"
   ]
  },
  {
   "cell_type": "code",
   "execution_count": 30,
   "id": "9056fa70-39f9-48be-897e-e75dc614fcba",
   "metadata": {},
   "outputs": [
    {
     "name": "stdout",
     "output_type": "stream",
     "text": [
      "2024-10-20\n"
     ]
    }
   ],
   "source": [
    "# Create a Timestamp to track when data was collected\n",
    "\n",
    "today = datetime.date.today()\n",
    "\n",
    "print(today)"
   ]
  },
  {
   "cell_type": "code",
   "execution_count": 31,
   "id": "bef2a565-d62b-4d73-b204-b0b6f26bf216",
   "metadata": {},
   "outputs": [],
   "source": [
    "# Create a CSV file and write headers and data into it\n",
    "\n",
    "import csv \n",
    "\n",
    "header = ['Title', 'Price','Rating','Total_of_Ratings','Date']\n",
    "data = [title, price, rating,total_of_ratings, today]\n",
    "\n",
    "\n",
    "with open('AmazonWebScraperDataset.csv', 'w', newline='', encoding='UTF8') as f:\n",
    "    writer = csv.writer(f)\n",
    "    writer.writerow(header)\n",
    "    writer.writerow(data)"
   ]
  },
  {
   "cell_type": "code",
   "execution_count": 32,
   "id": "12ac8446-aa7d-4c98-912c-0e86404bc7db",
   "metadata": {},
   "outputs": [],
   "source": [
    "#Now we are appending data to the csv\n",
    "\n",
    "with open('AmazonWebScraperDataset.csv', 'a+', newline='', encoding='UTF8') as f:\n",
    "    writer = csv.writer(f)\n",
    "    writer.writerow(data)"
   ]
  },
  {
   "cell_type": "code",
   "execution_count": null,
   "id": "98449380-028d-4eff-86e2-54f9c04e4880",
   "metadata": {},
   "outputs": [],
   "source": [
    "#Combine all of the above code into one function\n",
    "\n",
    "def check_price():\n",
    "    URL = 'https://www.amazon.ca/Samsung-24-inch-Eye-Saver-Freesync-LS24C330GANXZA/dp/B0CJCLFCVX?pd_rd_w=EjBHs&content-id=amzn1.sym.e0b5b8df-c7a3-4462-b3fb-639731524e88&pf_rd_p=e0b5b8df-c7a3-4462-b3fb-639731524e88&pf_rd_r=X200QYK25P81SCM3CMEQ&pd_rd_wg=CAAqE&pd_rd_r=b33fe40b-98e8-4365-95f1-083b7774a16a&pd_rd_i=B0CJCLFCVX&ref_=pd_hp_d_btf_unk_B0CJCLFCVX&th=1'\n",
    "\n",
    "    headers = {\"User-Agent\": \"Mozilla/5.0 (Windows NT 10.0; Win64; x64) AppleWebKit/537.36 (KHTML, like Gecko) Chrome/78.0.3904.108 Safari/537.36\", \"Accept-Encoding\":\"gzip, deflate\", \"Accept\":\"text/html,application/xhtml+xml,application/xml;q=0.9,*/*;q=0.8\", \"DNT\":\"1\",\"Connection\":\"close\", \"Upgrade-Insecure-Requests\":\"1\"}\n",
    "\n",
    "    page = requests.get(URL, headers=headers)\n",
    "\n",
    "    soup1 = BeautifulSoup(page.content, \"html.parser\")\n",
    "\n",
    "    #use prettify to look in a better format\n",
    "    soup2 = BeautifulSoup(soup1.prettify(), \"html.parser\")\n",
    "\n",
    "    title = soup2.find(id='productTitle').get_text()\n",
    "\n",
    "    price_whole = soup2.find(class_='a-price-whole').get_text(strip=True)\n",
    "    price_fraction = soup2.find(class_='a-price-fraction').get_text(strip=True)\n",
    "    price = f'{price_whole}{price_fraction}'\n",
    "\n",
    "    rating = soup2.find(class_='a-icon-alt').get_text(strip=True)\n",
    "\n",
    "    total_of_ratings = soup2.find(id='acrCustomerReviewText').get_text(strip=True)\n",
    "    \n",
    "    today = datetime.date.today()\n",
    "\n",
    "    header = ['Title', 'Price','Rating','Total_of_Ratings','Date']\n",
    "    data = [title, price, rating,total_of_ratings, today]\n",
    "\n",
    "\n",
    "    with open('AmazonWebScraperDataset.csv', 'a+', newline='', encoding='UTF8') as f:\n",
    "        writer = csv.writer(f)\n",
    "        writer.writerow(data)\n"
   ]
  },
  {
   "cell_type": "code",
   "execution_count": null,
   "id": "2cd95389-d0c8-4ad5-b86e-154dd6f7491f",
   "metadata": {},
   "outputs": [],
   "source": [
    "# Runs check_price after a set time and inputs data into the CSV file\n",
    "\n",
    "while(True):\n",
    "    check_price()\n",
    "    time.sleep(86400)"
   ]
  },
  {
   "cell_type": "code",
   "execution_count": 33,
   "id": "67295d51-341e-4bed-8d6d-114e0e2bceb3",
   "metadata": {},
   "outputs": [
    {
     "name": "stdout",
     "output_type": "stream",
     "text": [
      "                                               Title  Price  Rating  \\\n",
      "0  Samsung 24-inch Flat Screen IPS Monitor 4ms 10...  108.0     4.5   \n",
      "1  Samsung 24-inch Flat Screen IPS Monitor 4ms 10...  108.0     4.5   \n",
      "\n",
      "  Total_of_Ratings        Date  \n",
      "0            7,001  2024-10-20  \n",
      "1            7,001  2024-10-20  \n"
     ]
    }
   ],
   "source": [
    "df = pd.read_csv(r'C:\\Users\\Galy\\AmazonWebScraperDataset.csv')\n",
    "\n",
    "print(df)"
   ]
  }
 ],
 "metadata": {
  "kernelspec": {
   "display_name": "Python 3 (ipykernel)",
   "language": "python",
   "name": "python3"
  },
  "language_info": {
   "codemirror_mode": {
    "name": "ipython",
    "version": 3
   },
   "file_extension": ".py",
   "mimetype": "text/x-python",
   "name": "python",
   "nbconvert_exporter": "python",
   "pygments_lexer": "ipython3",
   "version": "3.12.4"
  }
 },
 "nbformat": 4,
 "nbformat_minor": 5
}
